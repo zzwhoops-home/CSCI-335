{
 "cells": [
  {
   "cell_type": "markdown",
   "metadata": {
    "id": "sScxfakfqFqf"
   },
   "source": [
    "\n",
    "\n",
    "```\n",
    "This assignment involves working with a 200-sample synthetic data to perform binary classification using a KNN approach.\n",
    "\n",
    "Submit using mycourses dropbox. Save the file in ipynb format. Your submission will be shared with all your classmates.\n",
    "\n",
    "You are allowed to research code online or use LLM code generators.\n",
    "\n",
    "Requirements:\n",
    "\n",
    "1. Load the data (code provided) and show the shape of the numpy ndarray.\n",
    "2. Plot the data as a 2-D space comprised of the features, with the samples\n",
    "   colored by the associated class (3rd column in the numpy array).\n",
    "3. Implement a nearest-neighbor model to predict the label based on majority\n",
    "   voting of the k nearest sample's labels. Set k to {1,3,5,15,200}.\n",
    "   Present the accuracy of the predictions for each k.\n",
    "   Your implementation of distance calculation should not use loops. Do not use sklearn.neighbors.KNeighborsClassifier.\n",
    "4. Present the confusion matrices for each k.\n",
    "5. Plot the decision boundary of the KNN classifier model for k=1.\n",
    "6. Plot the data now with the two prediction regions separated by the decision\n",
    "   boundary as blue (for predicting as '0') and orange (otherwise), for k=1.\n",
    "7. Repeat the plot with the colored regions and the decision boundary for k=3.\n",
    "8. Repeat the plot with the colored regions and the decision boundary for k=5.\n",
    "9. Repeat the plot with the colored regions and the decision boundary for k=7.\n",
    "10. Repeat the plot with the colored regions and the decision boundary for k=200.\n",
    "```\n",
    "\n"
   ]
  },
  {
   "cell_type": "markdown",
   "metadata": {},
   "source": [
    "## 1. Load data & imports"
   ]
  },
  {
   "cell_type": "code",
   "execution_count": 3,
   "metadata": {
    "id": "2j4WpciIeYTr"
   },
   "outputs": [],
   "source": [
    "import numpy as np\n",
    "import matplotlib.pyplot as plt\n",
    "\n",
    "# !wget https://github.com/eduardocoelholima/635-code-multiterm/raw/refs/heads/main/data/binary_classification.\n",
    "\n",
    "data = np.load('../data/binary_classification_knn.npy')"
   ]
  }
 ],
 "metadata": {
  "colab": {
   "authorship_tag": "ABX9TyOOPYrvQIGS7zbX1v3h6NL0",
   "provenance": []
  },
  "kernelspec": {
   "display_name": ".env",
   "language": "python",
   "name": "python3"
  },
  "language_info": {
   "codemirror_mode": {
    "name": "ipython",
    "version": 3
   },
   "file_extension": ".py",
   "mimetype": "text/x-python",
   "name": "python",
   "nbconvert_exporter": "python",
   "pygments_lexer": "ipython3",
   "version": "3.13.5"
  }
 },
 "nbformat": 4,
 "nbformat_minor": 0
}
