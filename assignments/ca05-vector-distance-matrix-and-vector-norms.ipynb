{
 "cells": [
  {
   "cell_type": "markdown",
   "metadata": {
    "id": "Fl-SyroWBx8S"
   },
   "source": [
    "Given is a pair of vectors, and a comparison between vector and loop based implementation."
   ]
  },
  {
   "cell_type": "code",
   "execution_count": 1,
   "metadata": {
    "id": "wTM556nW9idu"
   },
   "outputs": [],
   "source": [
    "import numpy as np"
   ]
  },
  {
   "cell_type": "code",
   "execution_count": 2,
   "metadata": {
    "colab": {
     "base_uri": "https://localhost:8080/"
    },
    "executionInfo": {
     "elapsed": 169,
     "status": "ok",
     "timestamp": 1738488091524,
     "user": {
      "displayName": "Eduardo Coelho De Lima",
      "userId": "13405758064756443127"
     },
     "user_tz": 300
    },
    "id": "awT1JkO29kR4",
    "outputId": "8da06fc1-3869-4c7b-aded-860688a423a9"
   },
   "outputs": [
    {
     "data": {
      "text/plain": [
       "500"
      ]
     },
     "execution_count": 2,
     "metadata": {},
     "output_type": "execute_result"
    }
   ],
   "source": [
    "a = [i + 1 for i in range(0, 500)]\n",
    "b = [i for i in range(0, 500)]\n",
    "dist_squared = sum([(a_i - b_i)**2 for a_i, b_i in zip(a, b)])\n",
    "dist_squared"
   ]
  },
  {
   "cell_type": "code",
   "execution_count": 3,
   "metadata": {
    "colab": {
     "base_uri": "https://localhost:8080/"
    },
    "executionInfo": {
     "elapsed": 167,
     "status": "ok",
     "timestamp": 1738488098117,
     "user": {
      "displayName": "Eduardo Coelho De Lima",
      "userId": "13405758064756443127"
     },
     "user_tz": 300
    },
    "id": "FCH_tAfx9lxp",
    "outputId": "2c8410b8-fec1-4633-ffeb-577d0bd475e6"
   },
   "outputs": [
    {
     "data": {
      "text/plain": [
       "np.int64(500)"
      ]
     },
     "execution_count": 3,
     "metadata": {},
     "output_type": "execute_result"
    }
   ],
   "source": [
    "a_numpy = np.array(a)\n",
    "b_numpy = np.array(b)\n",
    "dist_squared = np.sum(np.square(a_numpy - b_numpy))\n",
    "dist_squared"
   ]
  },
  {
   "cell_type": "code",
   "execution_count": 4,
   "metadata": {
    "colab": {
     "base_uri": "https://localhost:8080/"
    },
    "executionInfo": {
     "elapsed": 3302,
     "status": "ok",
     "timestamp": 1738488111179,
     "user": {
      "displayName": "Eduardo Coelho De Lima",
      "userId": "13405758064756443127"
     },
     "user_tz": 300
    },
    "id": "F_sGwioS9y57",
    "outputId": "63068557-bf52-4400-cc9b-1ec57304466e"
   },
   "outputs": [
    {
     "name": "stdout",
     "output_type": "stream",
     "text": [
      "39.4 μs ± 428 ns per loop (mean ± std. dev. of 7 runs, 10,000 loops each)\n"
     ]
    }
   ],
   "source": [
    "# using pure python\n",
    "%timeit dist_squared = sum([(a_i - b_i)**2 for a_i, b_i in zip(a, b)])"
   ]
  },
  {
   "cell_type": "code",
   "execution_count": 5,
   "metadata": {
    "colab": {
     "base_uri": "https://localhost:8080/"
    },
    "executionInfo": {
     "elapsed": 6114,
     "status": "ok",
     "timestamp": 1738488127403,
     "user": {
      "displayName": "Eduardo Coelho De Lima",
      "userId": "13405758064756443127"
     },
     "user_tz": 300
    },
    "id": "wY4jW-CU919_",
    "outputId": "b902ac71-a4fa-423a-c811-2c279869b099"
   },
   "outputs": [
    {
     "name": "stdout",
     "output_type": "stream",
     "text": [
      "14.4 μs ± 4.53 μs per loop (mean ± std. dev. of 7 runs, 100,000 loops each)\n"
     ]
    }
   ],
   "source": [
    "# using numpy\n",
    "%timeit dist_squared = np.sum(np.square(a_numpy - b_numpy))"
   ]
  },
  {
   "cell_type": "markdown",
   "metadata": {
    "id": "or2amPIB-S4B"
   },
   "source": [
    "Now we want to calculate the euclidian distance between not only two vectors, but between 2 sets of vectors, each represented as a matrix. Your implementations should use just numpy (do not use scipy, sklearn, pandas, etc).\n",
    "\n",
    "1. Implement the loop based code.\n",
    "2. Implement the vector based code, without broadcast\n",
    "3. Same, using broadcast.\n",
    "4. Compare the run time between the loop and vector based implementations (questions 1 and 2).\n",
    "5. Calculate the l2 norm of a matrix with row-based vectors. You can not use np.linalg.norm.\n",
    "6. Calculate the l1 norm of a matrix with row-based vectors. You can not use np.linalg.norm."
   ]
  },
  {
   "cell_type": "markdown",
   "metadata": {},
   "source": [
    "## 1. Loop-based code"
   ]
  },
  {
   "cell_type": "code",
   "execution_count": 9,
   "metadata": {
    "id": "NFKkcaomEk4T"
   },
   "outputs": [
    {
     "name": "stdout",
     "output_type": "stream",
     "text": [
      "85.7 ms ± 512 μs per loop (mean ± std. dev. of 7 runs, 10 loops each)\n"
     ]
    }
   ],
   "source": [
    "import random\n",
    "import math\n",
    "\n",
    "NUM_VECTORS = 500\n",
    "\n",
    "random.seed(42)\n",
    "\n",
    "# lambda func for calculating distance\n",
    "distance = lambda a, b : math.sqrt((b[0] - a[0]) ** 2 + (b[1] - a[1]) ** 2)\n",
    "\n",
    "a = [[random.random(), random.random()] for _ in range(NUM_VECTORS)]\n",
    "b = [[random.random(), random.random()] for _ in range(NUM_VECTORS)]\n",
    "\n",
    "%timeit matrix = [[distance(a_i, b_i) for b_i in b] for a_i in a]"
   ]
  },
  {
   "cell_type": "markdown",
   "metadata": {},
   "source": [
    "## 2. Vector-based code without broadcast\n",
    "\n",
    "Not sure if this is the intended solution, but we know:\n",
    "$$\n",
    "\\| \\mathbf{a} - \\mathbf{b} \\| ^ 2 = (\\mathbf{a} - \\mathbf{b}) \\cdot (\\mathbf{a} - \\mathbf{b}) = (\\mathbf{a} - \\mathbf{b})^T(\\mathbf{a} - \\mathbf{b})\n",
    "$$\n",
    "\n",
    "Solving down, we get\n",
    "$$\n",
    "(\\mathbf{a} ^ T - \\mathbf{b} ^ T)(\\mathbf{a} - \\mathbf{b}) \\\\ \n",
    "= \\mathbf{a}^T\\mathbf{a} - 2\\mathbf{b}^T\\mathbf{a} + \\mathbf{b}^T\\mathbf{b} \\\\\n",
    "= \\| \\mathbf{a} ^ 2 \\| - 2\\mathbf{b}^T\\mathbf{a} + \\| \\mathbf{b} ^ 2 \\|\n",
    "$$\n",
    "\n"
   ]
  },
  {
   "cell_type": "code",
   "execution_count": 10,
   "metadata": {},
   "outputs": [],
   "source": [
    "np.random.seed(42)\n",
    "\n",
    "a_numpy = np.random.rand(500, 2)\n",
    "b_numpy = np.random.rand(500, 2)"
   ]
  },
  {
   "cell_type": "code",
   "execution_count": 11,
   "metadata": {},
   "outputs": [
    {
     "name": "stdout",
     "output_type": "stream",
     "text": [
      "7.52 ms ± 98 μs per loop (mean ± std. dev. of 7 runs, 100 loops each)\n"
     ]
    }
   ],
   "source": [
    "%%timeit\n",
    "\n",
    "# without broadcasting\n",
    "a_sq = np.sum(a_numpy**2, axis=1, keepdims=True)\n",
    "b_sq = np.sum(b_numpy**2, axis=1, keepdims=True)\n",
    "\n",
    "# manual broadcasting\n",
    "a_sq_tiled = np.tile(a_sq, (1, 500))\n",
    "b_sq_tiled = np.tile(b_sq, (1, 500))\n",
    "\n",
    "# center term\n",
    "BA_dot = (b_sq @ a_sq.T)\n",
    "\n",
    "# algebra\n",
    "sq_dist = a_sq_tiled - (2 * BA_dot) + b_sq_tiled\n",
    "# clamp negatives to 0\n",
    "sq_dist = np.maximum(sq_dist, 0)\n",
    "\n",
    "dist = np.sqrt(sq_dist)\n",
    "dist\n"
   ]
  },
  {
   "cell_type": "markdown",
   "metadata": {},
   "source": [
    "## 3. Using Broadcast"
   ]
  },
  {
   "cell_type": "code",
   "execution_count": 13,
   "metadata": {},
   "outputs": [
    {
     "name": "stdout",
     "output_type": "stream",
     "text": [
      "5.28 ms ± 103 μs per loop (mean ± std. dev. of 7 runs, 100 loops each)\n"
     ]
    }
   ],
   "source": [
    "%%timeit\n",
    "\n",
    "# without broadcasting\n",
    "a_sq = np.sum(a_numpy**2, axis=1, keepdims=True)\n",
    "b_sq = np.sum(b_numpy**2, axis=1, keepdims=True)\n",
    "\n",
    "# center term\n",
    "BA_dot = (b_sq @ a_sq.T)\n",
    "\n",
    "# automatic broadcasting\n",
    "sq_dist = a_sq - (2 * BA_dot) + b_sq\n",
    "# clamp negatives to 0\n",
    "sq_dist = np.maximum(sq_dist, 0)\n",
    "\n",
    "dist = np.sqrt(sq_dist)\n",
    "dist\n"
   ]
  },
  {
   "cell_type": "markdown",
   "metadata": {},
   "source": [
    "Alternatively, we broadcast to 500 x 500 x 2 matrix first."
   ]
  },
  {
   "cell_type": "code",
   "execution_count": 14,
   "metadata": {},
   "outputs": [
    {
     "name": "stdout",
     "output_type": "stream",
     "text": [
      "11 ms ± 89.2 μs per loop (mean ± std. dev. of 7 runs, 100 loops each)\n"
     ]
    }
   ],
   "source": [
    "%%timeit\n",
    "\n",
    "# broadcast first, tiling along x and y axes\n",
    "diff = a_numpy[:, None, :] - b_numpy[None, :, :]\n",
    "\n",
    "dist_sq = np.sum(diff ** 2, axis=2)\n",
    "\n",
    "dist = np.sqrt(dist_sq)"
   ]
  },
  {
   "cell_type": "markdown",
   "metadata": {},
   "source": [
    "## 4. Comparison\n",
    "By far, the slowest implementation of this process of calculating a distance matrix for a dataset $\\{ \\mathbf{v}_i \\in \\mathbb{R} ^ 2 | i=1, 2,...,500 \\}$ was the usage of normal loops. The deviation of 85.7 ms $\\pm$ 512 $\\mu\\text{s}$ is around 10-20 times longer than any other method we used. The fastest method was to simply do everything as a matrix operation, allowing numpy to auto-broadcast the rows and columns. A broadcasting, non-matrix solution was also efficient, albeit slower."
   ]
  },
  {
   "cell_type": "markdown",
   "metadata": {},
   "source": [
    "## 5. L2 norm of matrix\n",
    "Here, we want to find the largest singular values $\\sigma$ of `a_numpy`:"
   ]
  },
  {
   "cell_type": "code",
   "execution_count": 15,
   "metadata": {},
   "outputs": [
    {
     "name": "stdout",
     "output_type": "stream",
     "text": [
      "L2 norm: 16.85599702842614\n"
     ]
    },
    {
     "data": {
      "text/plain": [
       "np.float64(16.855997028426142)"
      ]
     },
     "execution_count": 15,
     "metadata": {},
     "output_type": "execute_result"
    }
   ],
   "source": [
    "singular_vals = np.linalg.eigvals(a_numpy.T @ a_numpy)\n",
    "sq_l2_norm = np.max(singular_vals)\n",
    "l2_norm = np.sqrt(sq_l2_norm)\n",
    "\n",
    "print(f\"L2 norm: {l2_norm}\")\n",
    "\n",
    "# check with np.linalg.norm\n",
    "np.linalg.norm(a_numpy, ord=2)"
   ]
  },
  {
   "cell_type": "markdown",
   "metadata": {},
   "source": [
    "## 6. L1 norm of matrix"
   ]
  },
  {
   "cell_type": "code",
   "execution_count": 16,
   "metadata": {},
   "outputs": [
    {
     "name": "stdout",
     "output_type": "stream",
     "text": [
      "L1 norm: 256.5233384754257\n"
     ]
    },
    {
     "data": {
      "text/plain": [
       "np.float64(256.5233384754257)"
      ]
     },
     "execution_count": 16,
     "metadata": {},
     "output_type": "execute_result"
    }
   ],
   "source": [
    "l1_norm = np.max(np.sum(np.abs(a_numpy), axis=0))\n",
    "\n",
    "print(f\"L1 norm: {l1_norm}\")\n",
    "\n",
    "# check with np.linalg.norm\n",
    "np.linalg.norm(a_numpy, ord=1)"
   ]
  }
 ],
 "metadata": {
  "colab": {
   "authorship_tag": "ABX9TyM7uUggBOdLTeMV3WSnfNR9",
   "provenance": [
    {
     "file_id": "1JFEun35RpBvj5m84jMN9yLkZY6Y8jeXr",
     "timestamp": 1738941712714
    }
   ]
  },
  "kernelspec": {
   "display_name": ".env",
   "language": "python",
   "name": "python3"
  },
  "language_info": {
   "codemirror_mode": {
    "name": "ipython",
    "version": 3
   },
   "file_extension": ".py",
   "mimetype": "text/x-python",
   "name": "python",
   "nbconvert_exporter": "python",
   "pygments_lexer": "ipython3",
   "version": "3.13.7"
  }
 },
 "nbformat": 4,
 "nbformat_minor": 0
}
