{
 "cells": [
  {
   "cell_type": "markdown",
   "metadata": {
    "id": "sScxfakfqFqf"
   },
   "source": [
    "\n",
    "\n",
    "```\n",
    "This assignment involves working with a 200-sample synthetic data to perform\n",
    "binary classification using a linear model optimized using least squares.\n",
    "\n",
    "Submit using mycourses dropbox. Save the file in ipynb format.\n",
    "Your submission will be shared with all your classmates.\n",
    "\n",
    "You are allowed to research code online or use LLM code generators.\n",
    "\n",
    "Requirements:\n",
    "\n",
    "1. Load the data (code provided) and show the shape of the numpy ndarray.\n",
    "2. Present the data as a pandas dataframe.\n",
    "3. Show the summary statistics of the dataframe (max, min, mean, etc).\n",
    "4. Plot the data as a 2-D space comprised of the features, with the samples\n",
    "   colored by the associated class (3rd column in the numpy array).\n",
    "5. Find the least squares solution for this data using a single line of code. Do not use np.linalg.lstsq or sklearn.linear_model.LinearRegression. Print the values of your parameter vector beta that includes the bias.\n",
    "6. Calculate the RSS of the least squares solution.\n",
    "7. Plot the decision boundary of the linear model optimized by the RSS using a\n",
    "   decision function that thresholds at 0.5.\n",
    "8. Color the two prediction regions separated by the decision boundary as blue\n",
    "   (for predicting as '0') and orange (otherwise).\n",
    "\n",
    "```\n",
    "\n"
   ]
  },
  {
   "cell_type": "markdown",
   "metadata": {},
   "source": [
    "## 1. Import Dataset\n",
    "As instructed, we will show the shape of the numpy array below."
   ]
  },
  {
   "cell_type": "code",
   "execution_count": 22,
   "metadata": {
    "colab": {
     "base_uri": "https://localhost:8080/"
    },
    "executionInfo": {
     "elapsed": 1199,
     "status": "ok",
     "timestamp": 1738167253078,
     "user": {
      "displayName": "Eduardo Coelho De Lima",
      "userId": "13405758064756443127"
     },
     "user_tz": 300
    },
    "id": "2j4WpciIeYTr",
    "outputId": "81a480cb-9880-47ce-c0e8-6de8df92992a"
   },
   "outputs": [],
   "source": [
    "%%capture\n",
    "\n",
    "import numpy as np\n",
    "\n",
    "# to use on windows instead\n",
    "# !curl --output \"../data/binary_classification.npy\" \"https://github.com/eduardocoelholima/635-code-multiterm/raw/refs/heads/main/data/binary_classification.npy\""
   ]
  },
  {
   "cell_type": "code",
   "execution_count": 3,
   "metadata": {},
   "outputs": [
    {
     "name": "stdout",
     "output_type": "stream",
     "text": [
      "[2.52609297 0.32105045 0.        ]\n",
      "Shape of array: (200, 3)\n"
     ]
    }
   ],
   "source": [
    "data = np.load('../data/binary_classification.npy')\n",
    "print(data[0,:])\n",
    "\n",
    "# get shape\n",
    "print(f\"Shape of array: {np.shape(data)}\")"
   ]
  },
  {
   "cell_type": "markdown",
   "metadata": {},
   "source": [
    "## 2. Pandas Dataframe"
   ]
  },
  {
   "cell_type": "code",
   "execution_count": 4,
   "metadata": {},
   "outputs": [],
   "source": [
    "import pandas as pd\n",
    "\n",
    "df = pd.DataFrame(data)"
   ]
  },
  {
   "cell_type": "markdown",
   "metadata": {},
   "source": [
    "## 3. Summary Statistics"
   ]
  },
  {
   "cell_type": "code",
   "execution_count": 5,
   "metadata": {},
   "outputs": [
    {
     "data": {
      "application/vnd.microsoft.datawrangler.viewer.v0+json": {
       "columns": [
        {
         "name": "index",
         "rawType": "object",
         "type": "string"
        },
        {
         "name": "0",
         "rawType": "float64",
         "type": "float"
        },
        {
         "name": "1",
         "rawType": "float64",
         "type": "float"
        },
        {
         "name": "2",
         "rawType": "float64",
         "type": "float"
        }
       ],
       "ref": "f4025d2e-2015-43a6-8756-82b6c46ba45f",
       "rows": [
        [
         "count",
         "200.0",
         "200.0",
         "200.0"
        ],
        [
         "mean",
         "0.7846719357847275",
         "0.7560163672118556",
         "0.5"
        ],
        [
         "std",
         "1.2975819403728661",
         "1.0264415427582076",
         "0.5012547071170855"
        ],
        [
         "min",
         "-2.5208196765959814",
         "-1.9998534020399017",
         "0.0"
        ],
        [
         "25%",
         "-0.07146496971260183",
         "0.09555489438393501",
         "0.0"
        ],
        [
         "50%",
         "0.859702019348551",
         "0.8613868085401755",
         "0.5"
        ],
        [
         "75%",
         "1.5434375686244437",
         "1.4352748750762137",
         "1.0"
        ],
        [
         "max",
         "4.170746207536664",
         "2.8558049669193197",
         "1.0"
        ]
       ],
       "shape": {
        "columns": 3,
        "rows": 8
       }
      },
      "text/html": [
       "<div>\n",
       "<style scoped>\n",
       "    .dataframe tbody tr th:only-of-type {\n",
       "        vertical-align: middle;\n",
       "    }\n",
       "\n",
       "    .dataframe tbody tr th {\n",
       "        vertical-align: top;\n",
       "    }\n",
       "\n",
       "    .dataframe thead th {\n",
       "        text-align: right;\n",
       "    }\n",
       "</style>\n",
       "<table border=\"1\" class=\"dataframe\">\n",
       "  <thead>\n",
       "    <tr style=\"text-align: right;\">\n",
       "      <th></th>\n",
       "      <th>0</th>\n",
       "      <th>1</th>\n",
       "      <th>2</th>\n",
       "    </tr>\n",
       "  </thead>\n",
       "  <tbody>\n",
       "    <tr>\n",
       "      <th>count</th>\n",
       "      <td>200.000000</td>\n",
       "      <td>200.000000</td>\n",
       "      <td>200.000000</td>\n",
       "    </tr>\n",
       "    <tr>\n",
       "      <th>mean</th>\n",
       "      <td>0.784672</td>\n",
       "      <td>0.756016</td>\n",
       "      <td>0.500000</td>\n",
       "    </tr>\n",
       "    <tr>\n",
       "      <th>std</th>\n",
       "      <td>1.297582</td>\n",
       "      <td>1.026442</td>\n",
       "      <td>0.501255</td>\n",
       "    </tr>\n",
       "    <tr>\n",
       "      <th>min</th>\n",
       "      <td>-2.520820</td>\n",
       "      <td>-1.999853</td>\n",
       "      <td>0.000000</td>\n",
       "    </tr>\n",
       "    <tr>\n",
       "      <th>25%</th>\n",
       "      <td>-0.071465</td>\n",
       "      <td>0.095555</td>\n",
       "      <td>0.000000</td>\n",
       "    </tr>\n",
       "    <tr>\n",
       "      <th>50%</th>\n",
       "      <td>0.859702</td>\n",
       "      <td>0.861387</td>\n",
       "      <td>0.500000</td>\n",
       "    </tr>\n",
       "    <tr>\n",
       "      <th>75%</th>\n",
       "      <td>1.543438</td>\n",
       "      <td>1.435275</td>\n",
       "      <td>1.000000</td>\n",
       "    </tr>\n",
       "    <tr>\n",
       "      <th>max</th>\n",
       "      <td>4.170746</td>\n",
       "      <td>2.855805</td>\n",
       "      <td>1.000000</td>\n",
       "    </tr>\n",
       "  </tbody>\n",
       "</table>\n",
       "</div>"
      ],
      "text/plain": [
       "                0           1           2\n",
       "count  200.000000  200.000000  200.000000\n",
       "mean     0.784672    0.756016    0.500000\n",
       "std      1.297582    1.026442    0.501255\n",
       "min     -2.520820   -1.999853    0.000000\n",
       "25%     -0.071465    0.095555    0.000000\n",
       "50%      0.859702    0.861387    0.500000\n",
       "75%      1.543438    1.435275    1.000000\n",
       "max      4.170746    2.855805    1.000000"
      ]
     },
     "execution_count": 5,
     "metadata": {},
     "output_type": "execute_result"
    }
   ],
   "source": [
    "df.describe()"
   ]
  },
  {
   "cell_type": "markdown",
   "metadata": {},
   "source": [
    "## 4. Plot Data\n",
    "Columns 0 and 1 are the values of weights, with column 2 being the associated class. This data can be plotted as such:\n",
    "- x-axis: Column 0\n",
    "- y-axis: Column 1\n",
    "- color: Column 2 (Class)\n",
    "    - red: 0\n",
    "    - green: 1"
   ]
  },
  {
   "cell_type": "code",
   "execution_count": 6,
   "metadata": {},
   "outputs": [
    {
     "data": {
      "image/png": "[encoded data removed]",
      "text/plain": [
       "<Figure size 640x480 with 2 Axes>"
      ]
     },
     "metadata": {},
     "output_type": "display_data"
    }
   ],
   "source": [
    "import matplotlib.pyplot as plt\n",
    "from matplotlib.colors import ListedColormap\n",
    "\n",
    "colors = [\"red\", \"green\"]\n",
    "cmap = ListedColormap(\n",
    "    colors=colors\n",
    ")\n",
    "\n",
    "df.plot(\n",
    "    kind=\"scatter\",\n",
    "    x=0, # col 0: x\n",
    "    y=1, # col 1: y\n",
    "    c=2, # col 2: class\n",
    "    colormap=cmap,\n",
    ")\n",
    "plt.title(f\"{len(df)}-sample linear regression\")\n",
    "plt.show()"
   ]
  },
  {
   "cell_type": "markdown",
   "metadata": {},
   "source": [
    "## 5. Least Squares Solution\n",
    "We can find the least squares solution as follows:\n",
    "\n",
    "$ \\hat{\\bm{\\beta}} = \\left( \\bm{X}^T\\bm{X} \\right)^{-1} \\bm{X}^T\\bm{y} $\n",
    "\n",
    "In which we find $ \\bm{X} $ to take the form\n",
    "$ \\begin{bmatrix}\n",
    "1 & D_{1,0} & D_{1,1} \\\\\n",
    "1 & D_{2,0} & D_{2,1} \\\\\n",
    "\\vdots & \\vdots & \\vdots \\\\\n",
    "1 & D_{m,0} & D_{m,1} \\\\\n",
    "\\end{bmatrix}\n",
    "$\n",
    "where $ \\bm{D} $ is the dataframe represented as a matrix.\n",
    "\n",
    "$ \\bm{y} $ would then be $ D_{:,2} $ and now we can solve for $ \\hat{\\bm{\\beta}} $.\n"
   ]
  },
  {
   "cell_type": "code",
   "execution_count": 56,
   "metadata": {},
   "outputs": [
    {
     "name": "stdout",
     "output_type": "stream",
     "text": [
      "Beta (bias term index 0): [ 0.3290614  -0.022636    0.24959834]\n"
     ]
    }
   ],
   "source": [
    "# spread into multiple lines just to keep things cleaner\n",
    "import numpy as np\n",
    "\n",
    "# column of 1s and first 2 columns\n",
    "X = np.hstack((np.ones((data.shape[0], 1)), data[:, :2]))\n",
    "\n",
    "# y values\n",
    "y = data[:, 2]\n",
    "\n",
    "beta = np.linalg.inv(X.T @ X) @ X.T @ y\n",
    "print(f\"Beta (bias term index 0): {beta}\")"
   ]
  },
  {
   "cell_type": "markdown",
   "metadata": {},
   "source": [
    "## 6. Calculate RSS\n",
    "\n",
    "The Residual Sum of Squares (RSS) for this binary classification example is as simple as just counting the number of mismatches between actual values $ y_i $ and predicted values $ \\hat{y_i} $. We can use our model $ \\hat{y_i}=x_0 + \\hat{\\beta_1}x_1 + \\hat{\\beta_2}x_2 $ with threshold function\n",
    "$ f(\\hat{y_i}) = \\begin{cases}\n",
    "1 & \\hat{y_i} \\geq 0.5 \\\\\n",
    "0 & \\hat{y_i} \\lt 0.5\n",
    "\\end{cases}\n",
    "$"
   ]
  },
  {
   "cell_type": "code",
   "execution_count": 57,
   "metadata": {},
   "outputs": [
    {
     "name": "stdout",
     "output_type": "stream",
     "text": [
      "RSS: 54.0\n"
     ]
    }
   ],
   "source": [
    "# perform X * beta to get y hat values\n",
    "y_hats = X @ beta\n",
    "\n",
    "# apply threshold\n",
    "y_predicted = (y_hats >= 0.5).astype(int)\n",
    "\n",
    "# calculate RSS\n",
    "residuals = np.square(y - y_predicted)\n",
    "rss = np.sum(residuals)\n",
    "\n",
    "print(f\"RSS: {rss}\")\n",
    "# data[0], beta\n",
    "# 1 * 0.3290614 + 2.52609297 * -0.022636 + 0.32105045 * 0.2495834"
   ]
  },
  {
   "cell_type": "markdown",
   "metadata": {},
   "source": [
    "## 7. Plot decision boundary\n",
    "\n",
    "7. Plot the decision boundary of the linear model optimized by the RSS using a\n",
    "   decision function that thresholds at 0.5.\n",
    "8. Color the two prediction regions separated by the decision boundary as blue\n",
    "   (for predicting as '0') and orange (otherwise).\n",
    "\n"
   ]
  }
 ],
 "metadata": {
  "colab": {
   "provenance": []
  },
  "kernelspec": {
   "display_name": ".env",
   "language": "python",
   "name": "python3"
  },
  "language_info": {
   "codemirror_mode": {
    "name": "ipython",
    "version": 3
   },
   "file_extension": ".py",
   "mimetype": "text/x-python",
   "name": "python",
   "nbconvert_exporter": "python",
   "pygments_lexer": "ipython3",
   "version": "3.13.7"
  }
 },
 "nbformat": 4,
 "nbformat_minor": 0
}
