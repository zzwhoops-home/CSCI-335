{
 "cells": [
  {
   "cell_type": "markdown",
   "metadata": {
    "id": "sScxfakfqFqf"
   },
   "source": [
    "\n",
    "\n",
    "```\n",
    "This assignment involves working with a 200-sample synthetic data to perform\n",
    "binary classification using a linear model optimized using least squares.\n",
    "\n",
    "Submit using mycourses dropbox. Save the file in ipynb format.\n",
    "Your submission will be shared with all your classmates.\n",
    "\n",
    "You are allowed to research code online or use LLM code generators.\n",
    "\n",
    "Requirements:\n",
    "\n",
    "1. Load the data (code provided) and show the shape of the numpy ndarray.\n",
    "2. Present the data as a pandas dataframe.\n",
    "3. Show the summary statistics of the dataframe (max, min, mean, etc).\n",
    "4. Plot the data as a 2-D space comprised of the features, with the samples\n",
    "   colored by the associated class (3rd column in the numpy array).\n",
    "5. Find the least squares solution for this data using a single line of code. Do not use np.linalg.lstsq or sklearn.linear_model.LinearRegression. Print the values of your parameter vector beta that includes the bias.\n",
    "6. Calculate the RSS of the least squares solution.\n",
    "7. Plot the decision boundary of the linear model optimized by the RSS using a\n",
    "   decision function that thresholds at 0.5.\n",
    "8. Color the two prediction regions separated by the decision boundary as blue\n",
    "   (for predicting as '0') and orange (otherwise).\n",
    "\n",
    "```\n",
    "\n"
   ]
  },
  {
   "cell_type": "markdown",
   "metadata": {},
   "source": [
    "## 1. Import Dataset\n",
    "As instructed, we will show the shape of the numpy array below."
   ]
  },
  {
   "cell_type": "code",
   "execution_count": null,
   "metadata": {
    "colab": {
     "base_uri": "https://localhost:8080/"
    },
    "executionInfo": {
     "elapsed": 1199,
     "status": "ok",
     "timestamp": 1738167253078,
     "user": {
      "displayName": "Eduardo Coelho De Lima",
      "userId": "13405758064756443127"
     },
     "user_tz": 300
    },
    "id": "2j4WpciIeYTr",
    "outputId": "81a480cb-9880-47ce-c0e8-6de8df92992a"
   },
   "outputs": [],
   "source": [
    "%%capture\n",
    "\n",
    "import numpy as np\n",
    "\n",
    "# to use on windows instead\n",
    "!curl --output \"../data/binary_classification.npy\" \"https://github.com/eduardocoelholima/635-code-multiterm/raw/refs/heads/main/data/binary_classification.npy\""
   ]
  },
  {
   "cell_type": "code",
   "execution_count": 14,
   "metadata": {},
   "outputs": [
    {
     "name": "stdout",
     "output_type": "stream",
     "text": [
      "[2.52609297 0.32105045 0.        ]\n",
      "Shape of array: (200, 3)\n"
     ]
    }
   ],
   "source": [
    "data = np.load('../data/binary_classification.npy')\n",
    "print(data[0,:])\n",
    "\n",
    "# get shape\n",
    "print(f\"Shape of array: {np.shape(data)}\")"
   ]
  },
  {
   "cell_type": "markdown",
   "metadata": {},
   "source": [
    "## 2. Pandas Dataframe"
   ]
  },
  {
   "cell_type": "code",
   "execution_count": null,
   "metadata": {},
   "outputs": [],
   "source": [
    "import pandas as pd\n",
    "\n",
    "df = pd.DataFrame(data);"
   ]
  },
  {
   "cell_type": "markdown",
   "metadata": {},
   "source": [
    "## 3. Summary Statistics"
   ]
  }
 ],
 "metadata": {
  "colab": {
   "provenance": []
  },
  "kernelspec": {
   "display_name": ".env",
   "language": "python",
   "name": "python3"
  },
  "language_info": {
   "codemirror_mode": {
    "name": "ipython",
    "version": 3
   },
   "file_extension": ".py",
   "mimetype": "text/x-python",
   "name": "python",
   "nbconvert_exporter": "python",
   "pygments_lexer": "ipython3",
   "version": "3.13.5"
  }
 },
 "nbformat": 4,
 "nbformat_minor": 0
}
