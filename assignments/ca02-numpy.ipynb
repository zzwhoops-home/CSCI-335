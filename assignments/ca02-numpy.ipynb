{
 "cells": [
  {
   "cell_type": "markdown",
   "metadata": {
    "id": "sScxfakfqFqf"
   },
   "source": [
    "\n",
    "\n",
    "```\n",
    "This assignment involves working with matrices A, B and C using numpy.\n",
    "\n",
    "Submit using mycourses dropbox. Save the file in ipynb format.\n",
    "\n",
    "Your submission will be shared with all your classmates.\n",
    "\n",
    "You are allowed to research code online or use LLM code\n",
    "generators, but make sure you understand the code, otherwise\n",
    "you will not be learning. It is a good idea to always look up\n",
    "lectures notes and API documentation.\n",
    "\n",
    "Make sure you present all results. It is a good idea to create a cell for each requirement results.\n",
    "\n",
    "Requirements:\n",
    "\n",
    "1. Double all the elements in A, store the result in A itself.\n",
    "2. Calculate the matrix multiplication A times B, store it as D.\n",
    "3. Consider C to be a column vector and add it to the right of A. Show the result without storing it. \n",
    "4. Transpose B and add it to the bottom of A (as extra rows).\n",
    "5. Add B to itself, store the result as E.\n",
    "6. Add C to itself as a new row (considering C now to be a row vector), and store the result in F. The results should be a 2x3 matrix.\n",
    "7. Calculate the element-wise multiplication between F and B.\n",
    "8. Calculate the element-wise multiplication between C and B (this will result in using numpy broadcasting).\n",
    "9. Change the shape of C to be a 3x1 array, store it as G. Change the shape of C to be a 1x3 array, store it as H.\n",
    "10. Calculate the element-wise multiplication between G and H (note that numpy will broadcast now in two dimensions).\n",
    "```\n",
    "\n"
   ]
  },
  {
   "cell_type": "code",
   "execution_count": 77,
   "metadata": {
    "executionInfo": {
     "elapsed": 7,
     "status": "ok",
     "timestamp": 1741187676880,
     "user": {
      "displayName": "Eduardo Coelho De Lima",
      "userId": "13405758064756443127"
     },
     "user_tz": 300
    },
    "id": "2j4WpciIeYTr"
   },
   "outputs": [],
   "source": [
    "# create matrices\n",
    "import numpy as np\n",
    "a = np.array([[2,3],[2,3],[2,3]])\n",
    "b = np.array([[3,3,3],[2,2,2]])\n",
    "c = np.array([4,4,4])"
   ]
  },
  {
   "cell_type": "code",
   "execution_count": 78,
   "metadata": {
    "id": "mHMwwIUO3waf"
   },
   "outputs": [
    {
     "data": {
      "text/plain": [
       "array([[4, 6],\n",
       "       [4, 6],\n",
       "       [4, 6]])"
      ]
     },
     "execution_count": 78,
     "metadata": {},
     "output_type": "execute_result"
    }
   ],
   "source": [
    "# 1. double all elements in a\n",
    "a = np.multiply(a, 2)\n",
    "a"
   ]
  },
  {
   "cell_type": "code",
   "execution_count": 79,
   "metadata": {
    "id": "atTq0nOs49gk"
   },
   "outputs": [
    {
     "data": {
      "text/plain": [
       "array([[24, 24, 24],\n",
       "       [24, 24, 24],\n",
       "       [24, 24, 24]])"
      ]
     },
     "execution_count": 79,
     "metadata": {},
     "output_type": "execute_result"
    }
   ],
   "source": [
    "# 2. calculate d = a * b\n",
    "d = a @ b # or np.matmul(a, b)\n",
    "d"
   ]
  },
  {
   "cell_type": "code",
   "execution_count": 80,
   "metadata": {},
   "outputs": [
    {
     "data": {
      "text/plain": [
       "array([[4, 6, 4],\n",
       "       [4, 6, 4],\n",
       "       [4, 6, 4]])"
      ]
     },
     "execution_count": 80,
     "metadata": {},
     "output_type": "execute_result"
    }
   ],
   "source": [
    "# 3. augment right side of a with c\n",
    "\n",
    "# use reshape to interpret c as column vector\n",
    "np.concatenate((a, c.reshape(-1, 1)), axis=1)"
   ]
  },
  {
   "cell_type": "code",
   "execution_count": 81,
   "metadata": {},
   "outputs": [
    {
     "data": {
      "text/plain": [
       "array([[4, 6],\n",
       "       [4, 6],\n",
       "       [4, 6],\n",
       "       [3, 2],\n",
       "       [3, 2],\n",
       "       [3, 2]])"
      ]
     },
     "execution_count": 81,
     "metadata": {},
     "output_type": "execute_result"
    }
   ],
   "source": [
    "# 4. transpose B, add to bottom of A\n",
    "b_t = b.T # or np.transpose(b)\n",
    "\n",
    "np.concatenate((a, b_t))"
   ]
  },
  {
   "cell_type": "code",
   "execution_count": 82,
   "metadata": {},
   "outputs": [
    {
     "data": {
      "text/plain": [
       "array([[6, 6, 6],\n",
       "       [4, 4, 4]])"
      ]
     },
     "execution_count": 82,
     "metadata": {},
     "output_type": "execute_result"
    }
   ],
   "source": [
    "# 5. Add b to itself\n",
    "e = b + b\n",
    "e"
   ]
  },
  {
   "cell_type": "code",
   "execution_count": 83,
   "metadata": {},
   "outputs": [
    {
     "data": {
      "text/plain": [
       "array([[4, 4, 4],\n",
       "       [4, 4, 4]])"
      ]
     },
     "execution_count": 83,
     "metadata": {},
     "output_type": "execute_result"
    }
   ],
   "source": [
    "# 6. add c to itself as new row\n",
    "f = np.vstack((c, c))\n",
    "f"
   ]
  },
  {
   "cell_type": "code",
   "execution_count": 84,
   "metadata": {},
   "outputs": [
    {
     "data": {
      "text/plain": [
       "array([[12, 12, 12],\n",
       "       [ 8,  8,  8]])"
      ]
     },
     "execution_count": 84,
     "metadata": {},
     "output_type": "execute_result"
    }
   ],
   "source": [
    "# 7. element-wise f * b\n",
    "f * b"
   ]
  },
  {
   "cell_type": "code",
   "execution_count": 85,
   "metadata": {},
   "outputs": [
    {
     "data": {
      "text/plain": [
       "array([[12, 12, 12],\n",
       "       [ 8,  8,  8]])"
      ]
     },
     "execution_count": 85,
     "metadata": {},
     "output_type": "execute_result"
    }
   ],
   "source": [
    "# 8. element-wise c * b (broadcasting wizardry)\n",
    "c * b"
   ]
  },
  {
   "cell_type": "code",
   "execution_count": 86,
   "metadata": {},
   "outputs": [
    {
     "name": "stdout",
     "output_type": "stream",
     "text": [
      "[[4]\n",
      " [4]\n",
      " [4]]\n",
      "[[4 4 4]]\n"
     ]
    }
   ],
   "source": [
    "# 9. make g = c 3x1 array\n",
    "g = np.reshape(c, (3, 1))\n",
    "print(g)\n",
    "\n",
    "h = np.reshape(c, (1, 3))\n",
    "print(h)"
   ]
  },
  {
   "cell_type": "code",
   "execution_count": 87,
   "metadata": {},
   "outputs": [
    {
     "data": {
      "text/plain": [
       "array([[16, 16, 16],\n",
       "       [16, 16, 16],\n",
       "       [16, 16, 16]])"
      ]
     },
     "execution_count": 87,
     "metadata": {},
     "output_type": "execute_result"
    }
   ],
   "source": [
    "# 10. Calculate the element-wise multiplication between G and H (note that numpy will broadcast now in two dimensions).\n",
    "g * h"
   ]
  }
 ],
 "metadata": {
  "colab": {
   "provenance": []
  },
  "kernelspec": {
   "display_name": ".env",
   "language": "python",
   "name": "python3"
  },
  "language_info": {
   "codemirror_mode": {
    "name": "ipython",
    "version": 3
   },
   "file_extension": ".py",
   "mimetype": "text/x-python",
   "name": "python",
   "nbconvert_exporter": "python",
   "pygments_lexer": "ipython3",
   "version": "3.10.4"
  }
 },
 "nbformat": 4,
 "nbformat_minor": 0
}
