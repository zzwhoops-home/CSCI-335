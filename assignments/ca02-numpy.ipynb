{
 "cells": [
  {
   "cell_type": "markdown",
   "metadata": {
    "id": "sScxfakfqFqf"
   },
   "source": [
    "\n",
    "\n",
    "```\n",
    "This assignment involves working with matrices A, B and C using numpy.\n",
    "\n",
    "Submit using mycourses dropbox. Save the file in ipynb format.\n",
    "\n",
    "Your submission will be shared with all your classmates.\n",
    "\n",
    "You are allowed to research code online or use LLM code\n",
    "generators, but make sure you understand the code, otherwise\n",
    "you will not be learning. It is a good idea to always look up\n",
    "lectures notes and API documentation.\n",
    "\n",
    "Make sure you present all results. It is a good idea to create a cell for each requirement results.\n",
    "\n",
    "Requirements:\n",
    "\n",
    "1. Double all the elements in A, store the result in A itself.\n",
    "2. Calculate the matrix multiplication A times B, store it as D.\n",
    "3. Consider C to be a column vector and add it to the right of A. Show the result without storing it. \n",
    "4. Transpose B and add it to the bottom of A (as extra rows).\n",
    "5. Add B to itself, store the result as E.\n",
    "6. Add C to itself as a new row (considering C now to be a row vector), and store the result in F. The results should be a 2x3 matrix.\n",
    "7. Calculate the element-wise multiplication between F and B.\n",
    "8. Calculate the element-wise multiplication between C and B (this will result in using numpy broadcasting).\n",
    "9. Change the shape of C to be a 3x1 array, store it as G. Change the shape of C to be a 1x3 array, store it as H.\n",
    "10. Calculate the element-wise multiplication between G and H (note that numpy will broadcast now in two dimensions).\n",
    "```\n",
    "\n"
   ]
  },
  {
   "cell_type": "code",
   "execution_count": 1,
   "metadata": {
    "executionInfo": {
     "elapsed": 7,
     "status": "ok",
     "timestamp": 1741187676880,
     "user": {
      "displayName": "Eduardo Coelho De Lima",
      "userId": "13405758064756443127"
     },
     "user_tz": 300
    },
    "id": "2j4WpciIeYTr"
   },
   "outputs": [],
   "source": [
    "import numpy as np\n",
    "a = np.array([[2,3],[2,3],[2,3]])\n",
    "b = np.array([[3,3,3],[2,2,2]])\n",
    "c = np.array([4,4,4])"
   ]
  },
  {
   "cell_type": "code",
   "execution_count": null,
   "metadata": {
    "id": "mHMwwIUO3waf"
   },
   "outputs": [],
   "source": []
  },
  {
   "cell_type": "code",
   "execution_count": null,
   "metadata": {
    "id": "atTq0nOs49gk"
   },
   "outputs": [],
   "source": []
  }
 ],
 "metadata": {
  "colab": {
   "provenance": []
  },
  "kernelspec": {
   "display_name": "Python 3",
   "name": "python3"
  },
  "language_info": {
   "name": "python"
  }
 },
 "nbformat": 4,
 "nbformat_minor": 0
}
